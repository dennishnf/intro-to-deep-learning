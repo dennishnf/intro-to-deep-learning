{
 "cells": [
  {
   "cell_type": "markdown",
   "metadata": {
    "colab_type": "text",
    "id": "56rTdRBR25zx"
   },
   "source": [
    "## [Open original folder](https://drive.google.com/drive/folders/1JiYAyok-t3vXdk07KyTLjrVugrafGZB7?usp=sharing) ##\n"
   ]
  },
  {
   "cell_type": "markdown",
   "metadata": {
    "colab_type": "text",
    "id": "tQ1Mb8XWdEbM"
   },
   "source": [
    "## Classification using Multilayer Perceptron ##"
   ]
  },
  {
   "cell_type": "markdown",
   "metadata": {
    "colab_type": "text",
    "id": "VQJshuledQ5i"
   },
   "source": [
    "### Preparing libraries ###"
   ]
  },
  {
   "cell_type": "code",
   "execution_count": null,
   "metadata": {
    "colab": {
     "base_uri": "https://localhost:8080/",
     "height": 35
    },
    "colab_type": "code",
    "executionInfo": {
     "elapsed": 2221,
     "status": "ok",
     "timestamp": 1598134555471,
     "user": {
      "displayName": "Dennis Núñez Fernández",
      "photoUrl": "https://lh3.googleusercontent.com/a-/AOh14GjjYGE_fj3i51L1fHXIFe3URjsE_9VBSHwaunGaZPc=s64",
      "userId": "02133894314206366517"
     },
     "user_tz": 300
    },
    "id": "CSMnHwdW3MXc",
    "outputId": "5fb10e67-ce3d-4b8e-af1a-c71c5b98cfa4"
   },
   "outputs": [
    {
     "name": "stdout",
     "output_type": "stream",
     "text": [
      "2.3.0\n"
     ]
    }
   ],
   "source": [
    "# TensorFlow and tf.keras\n",
    "import tensorflow as tf\n",
    "from tensorflow import keras\n",
    "\n",
    "# Helper libraries\n",
    "import numpy as np\n",
    "import matplotlib.pyplot as plt\n",
    "\n",
    "print(tf.__version__)"
   ]
  },
  {
   "cell_type": "markdown",
   "metadata": {
    "colab_type": "text",
    "id": "x5yjrtfL3kal"
   },
   "source": [
    "### Import the Fashion MNIST dataset ###"
   ]
  },
  {
   "cell_type": "code",
   "execution_count": null,
   "metadata": {
    "colab": {
     "base_uri": "https://localhost:8080/",
     "height": 54
    },
    "colab_type": "code",
    "executionInfo": {
     "elapsed": 1158,
     "status": "ok",
     "timestamp": 1598134558316,
     "user": {
      "displayName": "Dennis Núñez Fernández",
      "photoUrl": "https://lh3.googleusercontent.com/a-/AOh14GjjYGE_fj3i51L1fHXIFe3URjsE_9VBSHwaunGaZPc=s64",
      "userId": "02133894314206366517"
     },
     "user_tz": 300
    },
    "id": "lnPQIJsw3T5z",
    "outputId": "b39f350e-d54f-40e8-cb36-644c9b8945f8"
   },
   "outputs": [
    {
     "name": "stdout",
     "output_type": "stream",
     "text": [
      "Downloading data from https://storage.googleapis.com/tensorflow/tf-keras-datasets/mnist.npz\n",
      "11493376/11490434 [==============================] - 0s 0us/step\n"
     ]
    }
   ],
   "source": [
    "mnist = keras.datasets.mnist\n",
    "\n",
    "(train_images, train_labels), (test_images, test_labels) = mnist.load_data()"
   ]
  },
  {
   "cell_type": "code",
   "execution_count": null,
   "metadata": {
    "colab": {},
    "colab_type": "code",
    "id": "r-WUB9uc3Wph"
   },
   "outputs": [],
   "source": [
    "class_names = ['0', '1', '2', '3', '4', '5', '6', '7', '8', '9']"
   ]
  },
  {
   "cell_type": "markdown",
   "metadata": {
    "colab_type": "text",
    "id": "HJ967EfP3pwD"
   },
   "source": [
    "### Explore the data ###"
   ]
  },
  {
   "cell_type": "code",
   "execution_count": null,
   "metadata": {
    "colab": {
     "base_uri": "https://localhost:8080/",
     "height": 35
    },
    "colab_type": "code",
    "executionInfo": {
     "elapsed": 812,
     "status": "ok",
     "timestamp": 1598134563163,
     "user": {
      "displayName": "Dennis Núñez Fernández",
      "photoUrl": "https://lh3.googleusercontent.com/a-/AOh14GjjYGE_fj3i51L1fHXIFe3URjsE_9VBSHwaunGaZPc=s64",
      "userId": "02133894314206366517"
     },
     "user_tz": 300
    },
    "id": "8JJZ3Udp3Y-Y",
    "outputId": "f57effd9-8ed6-467d-a6b7-d37569de8748"
   },
   "outputs": [
    {
     "data": {
      "text/plain": [
       "(60000, 28, 28)"
      ]
     },
     "execution_count": 4,
     "metadata": {
      "tags": []
     },
     "output_type": "execute_result"
    }
   ],
   "source": [
    "train_images.shape"
   ]
  },
  {
   "cell_type": "code",
   "execution_count": null,
   "metadata": {
    "colab": {
     "base_uri": "https://localhost:8080/",
     "height": 35
    },
    "colab_type": "code",
    "executionInfo": {
     "elapsed": 913,
     "status": "ok",
     "timestamp": 1598134565297,
     "user": {
      "displayName": "Dennis Núñez Fernández",
      "photoUrl": "https://lh3.googleusercontent.com/a-/AOh14GjjYGE_fj3i51L1fHXIFe3URjsE_9VBSHwaunGaZPc=s64",
      "userId": "02133894314206366517"
     },
     "user_tz": 300
    },
    "id": "8zoDwXcc3ayX",
    "outputId": "d36b7d4f-76af-457c-d0d8-740a122d26a4"
   },
   "outputs": [
    {
     "data": {
      "text/plain": [
       "60000"
      ]
     },
     "execution_count": 5,
     "metadata": {
      "tags": []
     },
     "output_type": "execute_result"
    }
   ],
   "source": [
    "len(train_labels)"
   ]
  },
  {
   "cell_type": "code",
   "execution_count": null,
   "metadata": {
    "colab": {
     "base_uri": "https://localhost:8080/",
     "height": 35
    },
    "colab_type": "code",
    "executionInfo": {
     "elapsed": 511,
     "status": "ok",
     "timestamp": 1598134566298,
     "user": {
      "displayName": "Dennis Núñez Fernández",
      "photoUrl": "https://lh3.googleusercontent.com/a-/AOh14GjjYGE_fj3i51L1fHXIFe3URjsE_9VBSHwaunGaZPc=s64",
      "userId": "02133894314206366517"
     },
     "user_tz": 300
    },
    "id": "ac7rzYWI3dQI",
    "outputId": "54b1f287-b316-4cbe-8263-b6affa4d171b"
   },
   "outputs": [
    {
     "data": {
      "text/plain": [
       "array([5, 0, 4, ..., 5, 6, 8], dtype=uint8)"
      ]
     },
     "execution_count": 6,
     "metadata": {
      "tags": []
     },
     "output_type": "execute_result"
    }
   ],
   "source": [
    "train_labels"
   ]
  },
  {
   "cell_type": "code",
   "execution_count": null,
   "metadata": {
    "colab": {
     "base_uri": "https://localhost:8080/",
     "height": 35
    },
    "colab_type": "code",
    "executionInfo": {
     "elapsed": 535,
     "status": "ok",
     "timestamp": 1598134567528,
     "user": {
      "displayName": "Dennis Núñez Fernández",
      "photoUrl": "https://lh3.googleusercontent.com/a-/AOh14GjjYGE_fj3i51L1fHXIFe3URjsE_9VBSHwaunGaZPc=s64",
      "userId": "02133894314206366517"
     },
     "user_tz": 300
    },
    "id": "N6C7Q_F83nX4",
    "outputId": "42e6a145-5c5f-4674-e4eb-5ca364124e1e"
   },
   "outputs": [
    {
     "data": {
      "text/plain": [
       "(10000, 28, 28)"
      ]
     },
     "execution_count": 7,
     "metadata": {
      "tags": []
     },
     "output_type": "execute_result"
    }
   ],
   "source": [
    "test_images.shape"
   ]
  },
  {
   "cell_type": "code",
   "execution_count": null,
   "metadata": {
    "colab": {
     "base_uri": "https://localhost:8080/",
     "height": 35
    },
    "colab_type": "code",
    "executionInfo": {
     "elapsed": 534,
     "status": "ok",
     "timestamp": 1598134568560,
     "user": {
      "displayName": "Dennis Núñez Fernández",
      "photoUrl": "https://lh3.googleusercontent.com/a-/AOh14GjjYGE_fj3i51L1fHXIFe3URjsE_9VBSHwaunGaZPc=s64",
      "userId": "02133894314206366517"
     },
     "user_tz": 300
    },
    "id": "tcrpPKzL30Ux",
    "outputId": "f1278f4d-df88-4350-d326-ca759f31b5cd"
   },
   "outputs": [
    {
     "data": {
      "text/plain": [
       "10000"
      ]
     },
     "execution_count": 8,
     "metadata": {
      "tags": []
     },
     "output_type": "execute_result"
    }
   ],
   "source": [
    "len(test_labels)"
   ]
  },
  {
   "cell_type": "markdown",
   "metadata": {
    "colab_type": "text",
    "id": "K2wdMxZg1pK8"
   },
   "source": [
    "### Preprocess the data ###"
   ]
  },
  {
   "cell_type": "code",
   "execution_count": null,
   "metadata": {
    "colab": {
     "base_uri": "https://localhost:8080/",
     "height": 265
    },
    "colab_type": "code",
    "executionInfo": {
     "elapsed": 834,
     "status": "ok",
     "timestamp": 1598134571053,
     "user": {
      "displayName": "Dennis Núñez Fernández",
      "photoUrl": "https://lh3.googleusercontent.com/a-/AOh14GjjYGE_fj3i51L1fHXIFe3URjsE_9VBSHwaunGaZPc=s64",
      "userId": "02133894314206366517"
     },
     "user_tz": 300
    },
    "id": "skbuhnBi32pV",
    "outputId": "adcd3435-fd9e-45bc-cbbc-505815e9b8ce"
   },
   "outputs": [
    {
     "data": {
      "image/png": "[encoded data removed]",
      "text/plain": [
       "<Figure size 432x288 with 2 Axes>"
      ]
     },
     "metadata": {
      "needs_background": "light",
      "tags": []
     },
     "output_type": "display_data"
    }
   ],
   "source": [
    "plt.figure()\n",
    "plt.imshow(train_images[5])\n",
    "plt.colorbar()\n",
    "plt.grid(False)\n",
    "plt.show()"
   ]
  },
  {
   "cell_type": "code",
   "execution_count": null,
   "metadata": {
    "colab": {},
    "colab_type": "code",
    "id": "vzskTIma34iM"
   },
   "outputs": [],
   "source": [
    "train_images = train_images / 255.0\n",
    "test_images = test_images / 255.0"
   ]
  },
  {
   "cell_type": "code",
   "execution_count": null,
   "metadata": {
    "colab": {
     "base_uri": "https://localhost:8080/",
     "height": 589
    },
    "colab_type": "code",
    "executionInfo": {
     "elapsed": 2550,
     "status": "ok",
     "timestamp": 1598134578103,
     "user": {
      "displayName": "Dennis Núñez Fernández",
      "photoUrl": "https://lh3.googleusercontent.com/a-/AOh14GjjYGE_fj3i51L1fHXIFe3URjsE_9VBSHwaunGaZPc=s64",
      "userId": "02133894314206366517"
     },
     "user_tz": 300
    },
    "id": "wl-HUlaf1uS5",
    "outputId": "b67feca2-6478-44c4-fe14-e20bcb5c7833"
   },
   "outputs": [
    {
     "data": {
      "image/png": "[encoded data removed]",
      "text/plain": [
       "<Figure size 720x720 with 36 Axes>"
      ]
     },
     "metadata": {
      "tags": []
     },
     "output_type": "display_data"
    }
   ],
   "source": [
    "plt.figure(figsize=(10,10))\n",
    "for i in range(36):\n",
    "    plt.subplot(6,6,i+1)\n",
    "    plt.xticks([])\n",
    "    plt.yticks([])\n",
    "    plt.grid(False)\n",
    "    plt.imshow(train_images[i], cmap=plt.cm.binary)\n",
    "    plt.xlabel(class_names[train_labels[i]])\n",
    "plt.show()"
   ]
  },
  {
   "cell_type": "markdown",
   "metadata": {
    "colab_type": "text",
    "id": "58Psqqsp1xyg"
   },
   "source": [
    "### Build the model ###"
   ]
  },
  {
   "cell_type": "code",
   "execution_count": null,
   "metadata": {
    "colab": {},
    "colab_type": "code",
    "id": "9UTZqlfE36qR"
   },
   "outputs": [],
   "source": [
    "model = keras.Sequential([\n",
    "    keras.layers.Flatten(input_shape=(28, 28)),\n",
    "    keras.layers.Dense(128, activation='relu'),\n",
    "    keras.layers.Dense(50, activation='relu'),\n",
    "    keras.layers.Dense(10)\n",
    "])"
   ]
  },
  {
   "cell_type": "code",
   "execution_count": null,
   "metadata": {
    "colab": {
     "base_uri": "https://localhost:8080/",
     "height": 311
    },
    "colab_type": "code",
    "executionInfo": {
     "elapsed": 3864,
     "status": "ok",
     "timestamp": 1598134593083,
     "user": {
      "displayName": "Dennis Núñez Fernández",
      "photoUrl": "https://lh3.googleusercontent.com/a-/AOh14GjjYGE_fj3i51L1fHXIFe3URjsE_9VBSHwaunGaZPc=s64",
      "userId": "02133894314206366517"
     },
     "user_tz": 300
    },
    "id": "zVKxrcLn6vN-",
    "outputId": "3edfdeda-a5d4-4ae0-8729-0b479de4abe5"
   },
   "outputs": [
    {
     "name": "stdout",
     "output_type": "stream",
     "text": [
      "Model: \"sequential\"\n",
      "_________________________________________________________________\n",
      "Layer (type)                 Output Shape              Param #   \n",
      "=================================================================\n",
      "flatten (Flatten)            (None, 784)               0         \n",
      "_________________________________________________________________\n",
      "dense (Dense)                (None, 128)               100480    \n",
      "_________________________________________________________________\n",
      "dense_1 (Dense)              (None, 50)                6450      \n",
      "_________________________________________________________________\n",
      "dense_2 (Dense)              (None, 10)                510       \n",
      "=================================================================\n",
      "Total params: 107,440\n",
      "Trainable params: 107,440\n",
      "Non-trainable params: 0\n",
      "_________________________________________________________________\n"
     ]
    }
   ],
   "source": [
    "model.summary()"
   ]
  },
  {
   "cell_type": "markdown",
   "metadata": {
    "colab_type": "text",
    "id": "9oJWKAz819G6"
   },
   "source": [
    "### Compile the model ###"
   ]
  },
  {
   "cell_type": "code",
   "execution_count": null,
   "metadata": {
    "colab": {},
    "colab_type": "code",
    "id": "6iLbkXy0388s"
   },
   "outputs": [],
   "source": [
    "model.compile(optimizer='adam',\n",
    "              loss=tf.keras.losses.SparseCategoricalCrossentropy(from_logits=True),\n",
    "              metrics=['accuracy'])"
   ]
  },
  {
   "cell_type": "markdown",
   "metadata": {
    "colab_type": "text",
    "id": "9_umsRpx2ALc"
   },
   "source": [
    "### Train the model ###"
   ]
  },
  {
   "cell_type": "code",
   "execution_count": null,
   "metadata": {
    "colab": {
     "base_uri": "https://localhost:8080/",
     "height": 403
    },
    "colab_type": "code",
    "executionInfo": {
     "elapsed": 34702,
     "status": "ok",
     "timestamp": 1598134634139,
     "user": {
      "displayName": "Dennis Núñez Fernández",
      "photoUrl": "https://lh3.googleusercontent.com/a-/AOh14GjjYGE_fj3i51L1fHXIFe3URjsE_9VBSHwaunGaZPc=s64",
      "userId": "02133894314206366517"
     },
     "user_tz": 300
    },
    "id": "OdL_UiJ53_bg",
    "outputId": "0c13b108-17ae-4687-a431-58f7525ccae8"
   },
   "outputs": [
    {
     "name": "stdout",
     "output_type": "stream",
     "text": [
      "Epoch 1/10\n",
      "1875/1875 [==============================] - 3s 2ms/step - loss: 0.2488 - accuracy: 0.9278\n",
      "Epoch 2/10\n",
      "1875/1875 [==============================] - 3s 2ms/step - loss: 0.1038 - accuracy: 0.9688\n",
      "Epoch 3/10\n",
      "1875/1875 [==============================] - 3s 2ms/step - loss: 0.0734 - accuracy: 0.9770\n",
      "Epoch 4/10\n",
      "1875/1875 [==============================] - 3s 2ms/step - loss: 0.0557 - accuracy: 0.9823\n",
      "Epoch 5/10\n",
      "1875/1875 [==============================] - 3s 2ms/step - loss: 0.0440 - accuracy: 0.9863\n",
      "Epoch 6/10\n",
      "1875/1875 [==============================] - 3s 2ms/step - loss: 0.0359 - accuracy: 0.9880\n",
      "Epoch 7/10\n",
      "1875/1875 [==============================] - 3s 2ms/step - loss: 0.0298 - accuracy: 0.9902\n",
      "Epoch 8/10\n",
      "1875/1875 [==============================] - 3s 2ms/step - loss: 0.0258 - accuracy: 0.9910\n",
      "Epoch 9/10\n",
      "1875/1875 [==============================] - 3s 2ms/step - loss: 0.0210 - accuracy: 0.9927\n",
      "Epoch 10/10\n",
      "1875/1875 [==============================] - 3s 2ms/step - loss: 0.0188 - accuracy: 0.9936\n"
     ]
    },
    {
     "data": {
      "text/plain": [
       "<tensorflow.python.keras.callbacks.History at 0x7fcd304ddef0>"
      ]
     },
     "execution_count": 15,
     "metadata": {
      "tags": []
     },
     "output_type": "execute_result"
    }
   ],
   "source": [
    "model.fit(train_images, train_labels, epochs=10)"
   ]
  },
  {
   "cell_type": "markdown",
   "metadata": {
    "colab_type": "text",
    "id": "p2fOoGEU6GnR"
   },
   "source": [
    "### Evaluate accuracy ###"
   ]
  },
  {
   "cell_type": "code",
   "execution_count": null,
   "metadata": {
    "colab": {
     "base_uri": "https://localhost:8080/",
     "height": 72
    },
    "colab_type": "code",
    "executionInfo": {
     "elapsed": 1490,
     "status": "ok",
     "timestamp": 1598134637600,
     "user": {
      "displayName": "Dennis Núñez Fernández",
      "photoUrl": "https://lh3.googleusercontent.com/a-/AOh14GjjYGE_fj3i51L1fHXIFe3URjsE_9VBSHwaunGaZPc=s64",
      "userId": "02133894314206366517"
     },
     "user_tz": 300
    },
    "id": "i6cE8-gR4BzL",
    "outputId": "c7b8065c-63e7-4fe3-a6b7-f7de722bb3ea"
   },
   "outputs": [
    {
     "name": "stdout",
     "output_type": "stream",
     "text": [
      "313/313 - 0s - loss: 0.0962 - accuracy: 0.9773\n",
      "\n",
      "Test accuracy: 0.9772999882698059\n"
     ]
    }
   ],
   "source": [
    "test_loss, test_acc = model.evaluate(test_images,  test_labels, verbose=2)\n",
    "\n",
    "print('\\nTest accuracy:', test_acc)"
   ]
  },
  {
   "cell_type": "markdown",
   "metadata": {
    "colab_type": "text",
    "id": "4iFG3xhu2ntb"
   },
   "source": [
    "### Make predictions ###"
   ]
  },
  {
   "cell_type": "code",
   "execution_count": null,
   "metadata": {
    "colab": {},
    "colab_type": "code",
    "id": "rEpvNc4A9DqK"
   },
   "outputs": [],
   "source": [
    "probability_model = tf.keras.Sequential([model, tf.keras.layers.Softmax()])"
   ]
  },
  {
   "cell_type": "code",
   "execution_count": null,
   "metadata": {
    "colab": {},
    "colab_type": "code",
    "id": "6_A-jNga9Keb"
   },
   "outputs": [],
   "source": [
    "predictions = probability_model.predict(test_images)"
   ]
  },
  {
   "cell_type": "code",
   "execution_count": null,
   "metadata": {
    "colab": {
     "base_uri": "https://localhost:8080/",
     "height": 72
    },
    "colab_type": "code",
    "executionInfo": {
     "elapsed": 485,
     "status": "ok",
     "timestamp": 1598134644773,
     "user": {
      "displayName": "Dennis Núñez Fernández",
      "photoUrl": "https://lh3.googleusercontent.com/a-/AOh14GjjYGE_fj3i51L1fHXIFe3URjsE_9VBSHwaunGaZPc=s64",
      "userId": "02133894314206366517"
     },
     "user_tz": 300
    },
    "id": "vanlQtVP9Oeo",
    "outputId": "cf4f385d-3663-4690-cb92-03d0ad4436e6"
   },
   "outputs": [
    {
     "data": {
      "text/plain": [
       "array([2.3462599e-12, 2.9910037e-08, 6.9598316e-10, 1.7783480e-08,\n",
       "       1.0771187e-10, 6.2300149e-13, 2.5417526e-14, 9.9999964e-01,\n",
       "       1.0888965e-11, 4.0399661e-07], dtype=float32)"
      ]
     },
     "execution_count": 19,
     "metadata": {
      "tags": []
     },
     "output_type": "execute_result"
    }
   ],
   "source": [
    "predictions[0]"
   ]
  },
  {
   "cell_type": "code",
   "execution_count": null,
   "metadata": {
    "colab": {
     "base_uri": "https://localhost:8080/",
     "height": 35
    },
    "colab_type": "code",
    "executionInfo": {
     "elapsed": 802,
     "status": "ok",
     "timestamp": 1598134647640,
     "user": {
      "displayName": "Dennis Núñez Fernández",
      "photoUrl": "https://lh3.googleusercontent.com/a-/AOh14GjjYGE_fj3i51L1fHXIFe3URjsE_9VBSHwaunGaZPc=s64",
      "userId": "02133894314206366517"
     },
     "user_tz": 300
    },
    "id": "xCvLM6Bc2q8l",
    "outputId": "7deb8645-a34f-456e-edd0-5d88740652a8"
   },
   "outputs": [
    {
     "data": {
      "text/plain": [
       "7"
      ]
     },
     "execution_count": 20,
     "metadata": {
      "tags": []
     },
     "output_type": "execute_result"
    }
   ],
   "source": [
    "np.argmax(predictions[0])"
   ]
  },
  {
   "cell_type": "code",
   "execution_count": null,
   "metadata": {
    "colab": {
     "base_uri": "https://localhost:8080/",
     "height": 35
    },
    "colab_type": "code",
    "executionInfo": {
     "elapsed": 785,
     "status": "ok",
     "timestamp": 1598134649154,
     "user": {
      "displayName": "Dennis Núñez Fernández",
      "photoUrl": "https://lh3.googleusercontent.com/a-/AOh14GjjYGE_fj3i51L1fHXIFe3URjsE_9VBSHwaunGaZPc=s64",
      "userId": "02133894314206366517"
     },
     "user_tz": 300
    },
    "id": "5wc6Z00G2uO8",
    "outputId": "cfaffb4f-482a-4846-a96d-3c879cef4067"
   },
   "outputs": [
    {
     "data": {
      "text/plain": [
       "7"
      ]
     },
     "execution_count": 21,
     "metadata": {
      "tags": []
     },
     "output_type": "execute_result"
    }
   ],
   "source": [
    "test_labels[0]"
   ]
  },
  {
   "cell_type": "code",
   "execution_count": null,
   "metadata": {
    "colab": {},
    "colab_type": "code",
    "id": "1oMm5cRI2zph"
   },
   "outputs": [],
   "source": [
    "def plot_image(i, predictions_array, true_label, img):\n",
    "  predictions_array, true_label, img = predictions_array, true_label[i], img[i]\n",
    "  plt.grid(False)\n",
    "  plt.xticks([])\n",
    "  plt.yticks([])\n",
    "\n",
    "  plt.imshow(img, cmap=plt.cm.binary)\n",
    "\n",
    "  predicted_label = np.argmax(predictions_array)\n",
    "  if predicted_label == true_label:\n",
    "    color = 'blue'\n",
    "  else:\n",
    "    color = 'red'\n",
    "\n",
    "  plt.xlabel(\"{} {:2.0f}% ({})\".format(class_names[predicted_label],\n",
    "                                100*np.max(predictions_array),\n",
    "                                class_names[true_label]),\n",
    "                                color=color)\n",
    "\n",
    "def plot_value_array(i, predictions_array, true_label):\n",
    "  predictions_array, true_label = predictions_array, true_label[i]\n",
    "  plt.grid(False)\n",
    "  plt.xticks(range(10))\n",
    "  plt.yticks([])\n",
    "  thisplot = plt.bar(range(10), predictions_array, color=\"#777777\")\n",
    "  plt.ylim([0, 1])\n",
    "  predicted_label = np.argmax(predictions_array)\n",
    "\n",
    "  thisplot[predicted_label].set_color('red')\n",
    "  thisplot[true_label].set_color('blue')\n"
   ]
  },
  {
   "cell_type": "markdown",
   "metadata": {
    "colab_type": "text",
    "id": "WeJIGNtP28IF"
   },
   "source": [
    "### Verify predictions ###"
   ]
  },
  {
   "cell_type": "code",
   "execution_count": null,
   "metadata": {
    "colab": {
     "base_uri": "https://localhost:8080/",
     "height": 211
    },
    "colab_type": "code",
    "executionInfo": {
     "elapsed": 762,
     "status": "ok",
     "timestamp": 1598134659529,
     "user": {
      "displayName": "Dennis Núñez Fernández",
      "photoUrl": "https://lh3.googleusercontent.com/a-/AOh14GjjYGE_fj3i51L1fHXIFe3URjsE_9VBSHwaunGaZPc=s64",
      "userId": "02133894314206366517"
     },
     "user_tz": 300
    },
    "id": "TjfFXN1M23Q1",
    "outputId": "cced172d-5d2e-4f9f-a199-27994131498f"
   },
   "outputs": [
    {
     "data": {
      "image/png": "[encoded data removed]",
      "text/plain": [
       "<Figure size 432x216 with 2 Axes>"
      ]
     },
     "metadata": {
      "needs_background": "light",
      "tags": []
     },
     "output_type": "display_data"
    }
   ],
   "source": [
    "i = 2\n",
    "plt.figure(figsize=(6,3))\n",
    "plt.subplot(1,2,1)\n",
    "plot_image(i, predictions[i], test_labels, test_images)\n",
    "plt.subplot(1,2,2)\n",
    "plot_value_array(i, predictions[i],  test_labels)\n",
    "plt.show()"
   ]
  },
  {
   "cell_type": "code",
   "execution_count": null,
   "metadata": {
    "colab": {
     "base_uri": "https://localhost:8080/",
     "height": 211
    },
    "colab_type": "code",
    "executionInfo": {
     "elapsed": 775,
     "status": "ok",
     "timestamp": 1598134661723,
     "user": {
      "displayName": "Dennis Núñez Fernández",
      "photoUrl": "https://lh3.googleusercontent.com/a-/AOh14GjjYGE_fj3i51L1fHXIFe3URjsE_9VBSHwaunGaZPc=s64",
      "userId": "02133894314206366517"
     },
     "user_tz": 300
    },
    "id": "HXh9BFSq2-mJ",
    "outputId": "6770bb27-84ab-4824-f9f5-8c7230b7efcd"
   },
   "outputs": [
    {
     "data": {
      "image/png": "[encoded data removed]",
      "text/plain": [
       "<Figure size 432x216 with 2 Axes>"
      ]
     },
     "metadata": {
      "needs_background": "light",
      "tags": []
     },
     "output_type": "display_data"
    }
   ],
   "source": [
    "i = 12\n",
    "plt.figure(figsize=(6,3))\n",
    "plt.subplot(1,2,1)\n",
    "plot_image(i, predictions[i], test_labels, test_images)\n",
    "plt.subplot(1,2,2)\n",
    "plot_value_array(i, predictions[i],  test_labels)\n",
    "plt.show()\n"
   ]
  },
  {
   "cell_type": "code",
   "execution_count": null,
   "metadata": {
    "colab": {
     "base_uri": "https://localhost:8080/",
     "height": 729
    },
    "colab_type": "code",
    "executionInfo": {
     "elapsed": 2388,
     "status": "ok",
     "timestamp": 1598134666712,
     "user": {
      "displayName": "Dennis Núñez Fernández",
      "photoUrl": "https://lh3.googleusercontent.com/a-/AOh14GjjYGE_fj3i51L1fHXIFe3URjsE_9VBSHwaunGaZPc=s64",
      "userId": "02133894314206366517"
     },
     "user_tz": 300
    },
    "id": "2FqM19A03DLa",
    "outputId": "6e8f81dd-26b5-4e8d-b418-1e85846d02d8"
   },
   "outputs": [
    {
     "data": {
      "image/png": "[encoded data removed]",
      "text/plain": [
       "<Figure size 864x720 with 30 Axes>"
      ]
     },
     "metadata": {
      "needs_background": "light",
      "tags": []
     },
     "output_type": "display_data"
    }
   ],
   "source": [
    "# Plot the first X test images, their predicted labels, and the true labels.\n",
    "# Color correct predictions in blue and incorrect predictions in red.\n",
    "num_rows = 5\n",
    "num_cols = 3\n",
    "num_images = num_rows*num_cols\n",
    "plt.figure(figsize=(2*2*num_cols, 2*num_rows))\n",
    "for i in range(num_images):\n",
    "  plt.subplot(num_rows, 2*num_cols, 2*i+1)\n",
    "  plot_image(i, predictions[i], test_labels, test_images)\n",
    "  plt.subplot(num_rows, 2*num_cols, 2*i+2)\n",
    "  plot_value_array(i, predictions[i], test_labels)\n",
    "plt.tight_layout()\n",
    "plt.show()"
   ]
  },
  {
   "cell_type": "markdown",
   "metadata": {
    "colab_type": "text",
    "id": "PHcOE3MU3Lfk"
   },
   "source": [
    "### Make predictions on single images ###"
   ]
  },
  {
   "cell_type": "code",
   "execution_count": null,
   "metadata": {
    "colab": {
     "base_uri": "https://localhost:8080/",
     "height": 35
    },
    "colab_type": "code",
    "executionInfo": {
     "elapsed": 765,
     "status": "ok",
     "timestamp": 1598134669456,
     "user": {
      "displayName": "Dennis Núñez Fernández",
      "photoUrl": "https://lh3.googleusercontent.com/a-/AOh14GjjYGE_fj3i51L1fHXIFe3URjsE_9VBSHwaunGaZPc=s64",
      "userId": "02133894314206366517"
     },
     "user_tz": 300
    },
    "id": "dyAnu1dM3MmF",
    "outputId": "3fb03f0c-98ce-4a1e-e35f-b83820e30c23"
   },
   "outputs": [
    {
     "name": "stdout",
     "output_type": "stream",
     "text": [
      "(28, 28)\n"
     ]
    }
   ],
   "source": [
    "# Grab an image from the test dataset.\n",
    "img = test_images[1]\n",
    "\n",
    "print(img.shape)"
   ]
  },
  {
   "cell_type": "code",
   "execution_count": null,
   "metadata": {
    "colab": {
     "base_uri": "https://localhost:8080/",
     "height": 269
    },
    "colab_type": "code",
    "executionInfo": {
     "elapsed": 752,
     "status": "ok",
     "timestamp": 1598134672136,
     "user": {
      "displayName": "Dennis Núñez Fernández",
      "photoUrl": "https://lh3.googleusercontent.com/a-/AOh14GjjYGE_fj3i51L1fHXIFe3URjsE_9VBSHwaunGaZPc=s64",
      "userId": "02133894314206366517"
     },
     "user_tz": 300
    },
    "id": "DL7IAQLC5eU1",
    "outputId": "44793f12-28b4-402a-92fe-3baef23b6d5a"
   },
   "outputs": [
    {
     "data": {
      "image/png": "[encoded data removed]",
      "text/plain": [
       "<Figure size 432x288 with 2 Axes>"
      ]
     },
     "metadata": {
      "needs_background": "light",
      "tags": []
     },
     "output_type": "display_data"
    }
   ],
   "source": [
    "plt.figure()\n",
    "plt.imshow(img)\n",
    "plt.colorbar()\n",
    "plt.grid(False)\n",
    "plt.show()"
   ]
  },
  {
   "cell_type": "code",
   "execution_count": null,
   "metadata": {
    "colab": {
     "base_uri": "https://localhost:8080/",
     "height": 35
    },
    "colab_type": "code",
    "executionInfo": {
     "elapsed": 730,
     "status": "ok",
     "timestamp": 1598134674843,
     "user": {
      "displayName": "Dennis Núñez Fernández",
      "photoUrl": "https://lh3.googleusercontent.com/a-/AOh14GjjYGE_fj3i51L1fHXIFe3URjsE_9VBSHwaunGaZPc=s64",
      "userId": "02133894314206366517"
     },
     "user_tz": 300
    },
    "id": "eGojLGc63OQz",
    "outputId": "d9c5b143-1e21-4162-c221-6a6b50891b9d"
   },
   "outputs": [
    {
     "name": "stdout",
     "output_type": "stream",
     "text": [
      "(1, 28, 28)\n"
     ]
    }
   ],
   "source": [
    "# Add the image to a batch where it's the only member.\n",
    "img = (np.expand_dims(img,0))\n",
    "\n",
    "print(img.shape)"
   ]
  },
  {
   "cell_type": "code",
   "execution_count": null,
   "metadata": {
    "colab": {
     "base_uri": "https://localhost:8080/",
     "height": 54
    },
    "colab_type": "code",
    "executionInfo": {
     "elapsed": 737,
     "status": "ok",
     "timestamp": 1598134676283,
     "user": {
      "displayName": "Dennis Núñez Fernández",
      "photoUrl": "https://lh3.googleusercontent.com/a-/AOh14GjjYGE_fj3i51L1fHXIFe3URjsE_9VBSHwaunGaZPc=s64",
      "userId": "02133894314206366517"
     },
     "user_tz": 300
    },
    "id": "RWNx1Zxs3SYj",
    "outputId": "0e54cc60-8976-4f4b-b83e-302072ca7d4a"
   },
   "outputs": [
    {
     "name": "stdout",
     "output_type": "stream",
     "text": [
      "[[6.5543465e-12 1.8738913e-08 1.0000000e+00 4.5318488e-10 9.2510940e-17\n",
      "  5.4123838e-16 7.8851942e-12 1.7024235e-19 2.5753671e-10 3.9524370e-15]]\n"
     ]
    }
   ],
   "source": [
    "predictions_single = probability_model.predict(img)\n",
    "\n",
    "print(predictions_single)"
   ]
  },
  {
   "cell_type": "code",
   "execution_count": null,
   "metadata": {
    "colab": {
     "base_uri": "https://localhost:8080/",
     "height": 267
    },
    "colab_type": "code",
    "executionInfo": {
     "elapsed": 749,
     "status": "ok",
     "timestamp": 1598134678099,
     "user": {
      "displayName": "Dennis Núñez Fernández",
      "photoUrl": "https://lh3.googleusercontent.com/a-/AOh14GjjYGE_fj3i51L1fHXIFe3URjsE_9VBSHwaunGaZPc=s64",
      "userId": "02133894314206366517"
     },
     "user_tz": 300
    },
    "id": "eKz0rB0Z3Wb-",
    "outputId": "e1324793-e326-4c22-bc1f-614033c8610e"
   },
   "outputs": [
    {
     "data": {
      "image/png": "[encoded data removed]",
      "text/plain": [
       "<Figure size 432x288 with 1 Axes>"
      ]
     },
     "metadata": {
      "needs_background": "light",
      "tags": []
     },
     "output_type": "display_data"
    }
   ],
   "source": [
    "plot_value_array(1, predictions_single[0], test_labels)\n",
    "_ = plt.xticks(range(10), class_names, rotation=45)"
   ]
  },
  {
   "cell_type": "code",
   "execution_count": null,
   "metadata": {
    "colab": {
     "base_uri": "https://localhost:8080/",
     "height": 36
    },
    "colab_type": "code",
    "executionInfo": {
     "elapsed": 757,
     "status": "ok",
     "timestamp": 1598134680176,
     "user": {
      "displayName": "Dennis Núñez Fernández",
      "photoUrl": "https://lh3.googleusercontent.com/a-/AOh14GjjYGE_fj3i51L1fHXIFe3URjsE_9VBSHwaunGaZPc=s64",
      "userId": "02133894314206366517"
     },
     "user_tz": 300
    },
    "id": "dUVL9ZtX3Yvr",
    "outputId": "e4a59b32-662b-439d-f7ec-4abe6bc14b5d"
   },
   "outputs": [
    {
     "data": {
      "application/vnd.google.colaboratory.intrinsic+json": {
       "type": "string"
      },
      "text/plain": [
       "'2'"
      ]
     },
     "execution_count": 31,
     "metadata": {
      "tags": []
     },
     "output_type": "execute_result"
    }
   ],
   "source": [
    "# valor predicho\n",
    "class_names[np.argmax(predictions_single[0])]"
   ]
  },
  {
   "cell_type": "code",
   "execution_count": null,
   "metadata": {
    "colab": {
     "base_uri": "https://localhost:8080/",
     "height": 36
    },
    "colab_type": "code",
    "executionInfo": {
     "elapsed": 672,
     "status": "ok",
     "timestamp": 1598134681659,
     "user": {
      "displayName": "Dennis Núñez Fernández",
      "photoUrl": "https://lh3.googleusercontent.com/a-/AOh14GjjYGE_fj3i51L1fHXIFe3URjsE_9VBSHwaunGaZPc=s64",
      "userId": "02133894314206366517"
     },
     "user_tz": 300
    },
    "id": "nkhpC1ye2X2E",
    "outputId": "95216eb9-83fe-4568-c217-c08c22a9545e"
   },
   "outputs": [
    {
     "data": {
      "application/vnd.google.colaboratory.intrinsic+json": {
       "type": "string"
      },
      "text/plain": [
       "'2'"
      ]
     },
     "execution_count": 32,
     "metadata": {
      "tags": []
     },
     "output_type": "execute_result"
    }
   ],
   "source": [
    "# etiqueta real o manual de la dataset\n",
    "class_names[test_labels[1]]"
   ]
  },
  {
   "cell_type": "code",
   "execution_count": null,
   "metadata": {
    "colab": {},
    "colab_type": "code",
    "id": "03bJIVbjP_0u"
   },
   "outputs": [],
   "source": []
  }
 ],
 "metadata": {
  "accelerator": "GPU",
  "colab": {
   "authorship_tag": "ABX9TyNX8xybpHmKyCZt5osSI3ZI",
   "collapsed_sections": [],
   "mount_file_id": "1LLzammqoyMgoWTW2Uwu9It-XS8NWexxq",
   "name": "main.ipynb",
   "provenance": [],
   "toc_visible": true
  },
  "kernelspec": {
   "display_name": "Python 3",
   "language": "python",
   "name": "python3"
  },
  "language_info": {
   "codemirror_mode": {
    "name": "ipython",
    "version": 3
   },
   "file_extension": ".py",
   "mimetype": "text/x-python",
   "name": "python",
   "nbconvert_exporter": "python",
   "pygments_lexer": "ipython3",
   "version": "3.6.13"
  }
 },
 "nbformat": 4,
 "nbformat_minor": 1
}
