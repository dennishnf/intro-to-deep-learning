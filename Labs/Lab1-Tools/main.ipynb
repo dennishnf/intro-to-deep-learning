{
 "cells": [
  {
   "cell_type": "markdown",
   "metadata": {
    "colab_type": "text",
    "id": "qbMIfP-F2Kti"
   },
   "source": [
    "## [Open original folder](https://drive.google.com/drive/folders/13gqlFNstq4sT22KdWqYtx5DLV_qJ1qbv?usp=sharing) ##"
   ]
  },
  {
   "cell_type": "markdown",
   "metadata": {
    "colab_type": "text",
    "id": "u_ucGvdVimgO"
   },
   "source": [
    "## Basic Tools ##"
   ]
  },
  {
   "cell_type": "markdown",
   "metadata": {
    "colab_type": "text",
    "id": "NOL3GzfscV0Y"
   },
   "source": [
    "### Google Colab Basics ###"
   ]
  },
  {
   "cell_type": "markdown",
   "metadata": {
    "colab_type": "text",
    "id": "32yzNd_JijXq"
   },
   "source": [
    "You can use the Colab cell for running terminal commands. Most of the popular libraries come installed by default on Google Colab. Yes, Python libraries like Pandas, NumPy, scikit-learn are all pre-installed."
   ]
  },
  {
   "cell_type": "code",
   "execution_count": null,
   "metadata": {
    "colab": {
     "base_uri": "https://localhost:8080/",
     "height": 54
    },
    "colab_type": "code",
    "executionInfo": {
     "elapsed": 5137,
     "status": "ok",
     "timestamp": 1598134406324,
     "user": {
      "displayName": "Dennis Núñez Fernández",
      "photoUrl": "https://lh3.googleusercontent.com/a-/AOh14GjjYGE_fj3i51L1fHXIFe3URjsE_9VBSHwaunGaZPc=s64",
      "userId": "02133894314206366517"
     },
     "user_tz": 300
    },
    "id": "UXFS7kCpiyJB",
    "outputId": "f6f415ff-c933-475c-dbcb-af99ead91f59"
   },
   "outputs": [
    {
     "name": "stdout",
     "output_type": "stream",
     "text": [
      "\u001b[31mERROR: Could not find a version that satisfies the requirement library_name (from versions: none)\u001b[0m\n",
      "\u001b[31mERROR: No matching distribution found for library_name\u001b[0m\n"
     ]
    }
   ],
   "source": [
    "!pip install library_name"
   ]
  },
  {
   "cell_type": "markdown",
   "metadata": {
    "colab_type": "text",
    "id": "vxd_Rnunix5c"
   },
   "source": [
    "Everything is similar to how it works in a regular terminal. We just you have to put an exclamation(!) before writing each command like:\n"
   ]
  },
  {
   "cell_type": "code",
   "execution_count": null,
   "metadata": {
    "colab": {
     "base_uri": "https://localhost:8080/",
     "height": 35
    },
    "colab_type": "code",
    "executionInfo": {
     "elapsed": 4819,
     "status": "ok",
     "timestamp": 1598161398431,
     "user": {
      "displayName": "Dennis Núñez Fernández",
      "photoUrl": "https://lh3.googleusercontent.com/a-/AOh14GjjYGE_fj3i51L1fHXIFe3URjsE_9VBSHwaunGaZPc=s64",
      "userId": "02133894314206366517"
     },
     "user_tz": 300
    },
    "id": "sfkTUyYai5v1",
    "outputId": "c8965ee0-c6d6-48bd-f71f-cc2d6cd83c40"
   },
   "outputs": [
    {
     "name": "stdout",
     "output_type": "stream",
     "text": [
      "sample_data\n"
     ]
    }
   ],
   "source": [
    "!ls"
   ]
  },
  {
   "cell_type": "markdown",
   "metadata": {
    "colab_type": "text",
    "id": "kuxsjfdDiq-3"
   },
   "source": [
    "### Python Basics ###"
   ]
  },
  {
   "cell_type": "code",
   "execution_count": 1,
   "metadata": {
    "colab": {},
    "colab_type": "code",
    "id": "CSMnHwdW3MXc"
   },
   "outputs": [
    {
     "name": "stdout",
     "output_type": "stream",
     "text": [
      "hello world\n"
     ]
    }
   ],
   "source": [
    "print ('hello world')"
   ]
  },
  {
   "cell_type": "code",
   "execution_count": null,
   "metadata": {
    "colab": {},
    "colab_type": "code",
    "id": "_W6NU_AfhpBZ"
   },
   "outputs": [],
   "source": [
    "myint = 7\n",
    "micadena = 'Hola'"
   ]
  },
  {
   "cell_type": "code",
   "execution_count": null,
   "metadata": {
    "colab": {
     "base_uri": "https://localhost:8080/",
     "height": 127
    },
    "colab_type": "code",
    "executionInfo": {
     "elapsed": 1418,
     "status": "ok",
     "timestamp": 1598134419219,
     "user": {
      "displayName": "Dennis Núñez Fernández",
      "photoUrl": "https://lh3.googleusercontent.com/a-/AOh14GjjYGE_fj3i51L1fHXIFe3URjsE_9VBSHwaunGaZPc=s64",
      "userId": "02133894314206366517"
     },
     "user_tz": 300
    },
    "id": "EdfrGbmth-TG",
    "outputId": "b6548407-ed14-4530-a8c5-da8c419b6955"
   },
   "outputs": [
    {
     "name": "stdout",
     "output_type": "stream",
     "text": [
      "1\n",
      "2\n",
      "3\n",
      "abc1\n",
      "abc2\n",
      "abc3\n"
     ]
    }
   ],
   "source": [
    "milista = []\n",
    "milista.append(1)\n",
    "milista.append(2)\n",
    "milista.append(3)\n",
    "print(milista[0]) # imprime 1\n",
    "print(milista[1]) # imprime 2\n",
    "print(milista[2]) # imprime 3\n",
    "\n",
    "# imprime 1,2,3\n",
    "for x in milista:\n",
    "    print(\"abc\"+str(x))"
   ]
  },
  {
   "cell_type": "code",
   "execution_count": null,
   "metadata": {
    "colab": {
     "base_uri": "https://localhost:8080/",
     "height": 54
    },
    "colab_type": "code",
    "executionInfo": {
     "elapsed": 779,
     "status": "ok",
     "timestamp": 1598134421557,
     "user": {
      "displayName": "Dennis Núñez Fernández",
      "photoUrl": "https://lh3.googleusercontent.com/a-/AOh14GjjYGE_fj3i51L1fHXIFe3URjsE_9VBSHwaunGaZPc=s64",
      "userId": "02133894314206366517"
     },
     "user_tz": 300
    },
    "id": "_koQb0hVjeW9",
    "outputId": "2a8334b8-c6cb-474c-e6c3-e7a8da6a0fbd"
   },
   "outputs": [
    {
     "name": "stdout",
     "output_type": "stream",
     "text": [
      "1st if: tu nombre es John, y tu tienes 23 años.\n",
      "2nd if: Tu nombre es John o puede ser  Rick.\n"
     ]
    }
   ],
   "source": [
    "name = \"John\"\n",
    "age = 23\n",
    "\n",
    "if name == \"John\" and age == 23:\n",
    "    print(\"1st if: tu nombre es John, y tu tienes 23 años.\")\n",
    "\n",
    "if name == \"John\" or name == \"Rick\":\n",
    "    print(\"2nd if: Tu nombre es John o puede ser  Rick.\")"
   ]
  },
  {
   "cell_type": "code",
   "execution_count": null,
   "metadata": {
    "colab": {
     "base_uri": "https://localhost:8080/",
     "height": 35
    },
    "colab_type": "code",
    "executionInfo": {
     "elapsed": 782,
     "status": "ok",
     "timestamp": 1598134423746,
     "user": {
      "displayName": "Dennis Núñez Fernández",
      "photoUrl": "https://lh3.googleusercontent.com/a-/AOh14GjjYGE_fj3i51L1fHXIFe3URjsE_9VBSHwaunGaZPc=s64",
      "userId": "02133894314206366517"
     },
     "user_tz": 300
    },
    "id": "TneXa1Zmj0pd",
    "outputId": "42104796-01b5-43c2-e5b3-89de9e0bf07b"
   },
   "outputs": [
    {
     "name": "stdout",
     "output_type": "stream",
     "text": [
      "Su nombre puede ser John or Rick.\n"
     ]
    }
   ],
   "source": [
    "if name in [\"John\", \"Rick\"]:\n",
    "    print(\"Su nombre puede ser John or Rick.\")"
   ]
  },
  {
   "cell_type": "code",
   "execution_count": null,
   "metadata": {
    "colab": {
     "base_uri": "https://localhost:8080/",
     "height": 90
    },
    "colab_type": "code",
    "executionInfo": {
     "elapsed": 949,
     "status": "ok",
     "timestamp": 1598134425653,
     "user": {
      "displayName": "Dennis Núñez Fernández",
      "photoUrl": "https://lh3.googleusercontent.com/a-/AOh14GjjYGE_fj3i51L1fHXIFe3URjsE_9VBSHwaunGaZPc=s64",
      "userId": "02133894314206366517"
     },
     "user_tz": 300
    },
    "id": "xxoowZJGkKec",
    "outputId": "efae020a-c106-43b6-ce05-41db8f41f5c5"
   },
   "outputs": [
    {
     "name": "stdout",
     "output_type": "stream",
     "text": [
      "2\n",
      "3\n",
      "5\n",
      "7\n"
     ]
    }
   ],
   "source": [
    "primes = [2,3,5,7]\n",
    "for prime in primes:\n",
    "    print(prime)"
   ]
  },
  {
   "cell_type": "code",
   "execution_count": null,
   "metadata": {
    "colab": {
     "base_uri": "https://localhost:8080/",
     "height": 109
    },
    "colab_type": "code",
    "executionInfo": {
     "elapsed": 796,
     "status": "ok",
     "timestamp": 1598134431274,
     "user": {
      "displayName": "Dennis Núñez Fernández",
      "photoUrl": "https://lh3.googleusercontent.com/a-/AOh14GjjYGE_fj3i51L1fHXIFe3URjsE_9VBSHwaunGaZPc=s64",
      "userId": "02133894314206366517"
     },
     "user_tz": 300
    },
    "id": "JitOj51EkRHq",
    "outputId": "14439853-b070-4cbb-f462-f6553e18549b"
   },
   "outputs": [
    {
     "name": "stdout",
     "output_type": "stream",
     "text": [
      "0\n",
      "1\n",
      "2\n",
      "3\n",
      "4\n"
     ]
    }
   ],
   "source": [
    "# Muestra todos los números entre 0,1,2,3,4\n",
    "for x in range(5):\n",
    "    print(x)"
   ]
  },
  {
   "cell_type": "code",
   "execution_count": null,
   "metadata": {
    "colab": {
     "base_uri": "https://localhost:8080/",
     "height": 72
    },
    "colab_type": "code",
    "executionInfo": {
     "elapsed": 921,
     "status": "ok",
     "timestamp": 1598134433578,
     "user": {
      "displayName": "Dennis Núñez Fernández",
      "photoUrl": "https://lh3.googleusercontent.com/a-/AOh14GjjYGE_fj3i51L1fHXIFe3URjsE_9VBSHwaunGaZPc=s64",
      "userId": "02133894314206366517"
     },
     "user_tz": 300
    },
    "id": "OJvQ5GCbkZEs",
    "outputId": "f075d94f-3aba-41b4-a6af-6697fdfef1cc"
   },
   "outputs": [
    {
     "name": "stdout",
     "output_type": "stream",
     "text": [
      "3\n",
      "4\n",
      "5\n"
     ]
    }
   ],
   "source": [
    "# Muestra 3,4,5\n",
    "for x in range(3,6):\n",
    "    print(x)"
   ]
  },
  {
   "cell_type": "code",
   "execution_count": null,
   "metadata": {
    "colab": {
     "base_uri": "https://localhost:8080/",
     "height": 109
    },
    "colab_type": "code",
    "executionInfo": {
     "elapsed": 763,
     "status": "ok",
     "timestamp": 1598134436426,
     "user": {
      "displayName": "Dennis Núñez Fernández",
      "photoUrl": "https://lh3.googleusercontent.com/a-/AOh14GjjYGE_fj3i51L1fHXIFe3URjsE_9VBSHwaunGaZPc=s64",
      "userId": "02133894314206366517"
     },
     "user_tz": 300
    },
    "id": "bVGDLdlSkgl3",
    "outputId": "f3479a32-fef3-4eb6-80d2-54c6cf60d2a7"
   },
   "outputs": [
    {
     "name": "stdout",
     "output_type": "stream",
     "text": [
      "0\n",
      "1\n",
      "2\n",
      "3\n",
      "4\n"
     ]
    }
   ],
   "source": [
    "count = 0\n",
    "while count < 5:\n",
    "    print(count)\n",
    "    count += 1  # This is the same as count = count + 1"
   ]
  },
  {
   "cell_type": "markdown",
   "metadata": {
    "colab_type": "text",
    "id": "cLbaIQWEjHaa"
   },
   "source": [
    "### Tensorflow & Keras Basics ###"
   ]
  },
  {
   "cell_type": "code",
   "execution_count": null,
   "metadata": {
    "colab": {},
    "colab_type": "code",
    "id": "TX1lAypgk5UB"
   },
   "outputs": [],
   "source": [
    "import tensorflow as tf"
   ]
  },
  {
   "cell_type": "code",
   "execution_count": null,
   "metadata": {
    "colab": {
     "base_uri": "https://localhost:8080/",
     "height": 54
    },
    "colab_type": "code",
    "executionInfo": {
     "elapsed": 1394,
     "status": "ok",
     "timestamp": 1598134442429,
     "user": {
      "displayName": "Dennis Núñez Fernández",
      "photoUrl": "https://lh3.googleusercontent.com/a-/AOh14GjjYGE_fj3i51L1fHXIFe3URjsE_9VBSHwaunGaZPc=s64",
      "userId": "02133894314206366517"
     },
     "user_tz": 300
    },
    "id": "8JJZ3Udp3Y-Y",
    "outputId": "fb5ca378-fdc8-43e5-f526-106a57db7b7c"
   },
   "outputs": [
    {
     "name": "stdout",
     "output_type": "stream",
     "text": [
      "Downloading data from https://storage.googleapis.com/tensorflow/tf-keras-datasets/mnist.npz\n",
      "11493376/11490434 [==============================] - 0s 0us/step\n"
     ]
    }
   ],
   "source": [
    "mnist = tf.keras.datasets.mnist\n",
    "\n",
    "(x_train, y_train), (x_test, y_test) = mnist.load_data()\n",
    "x_train, x_test = x_train / 255.0, x_test / 255.0"
   ]
  },
  {
   "cell_type": "code",
   "execution_count": null,
   "metadata": {
    "colab": {},
    "colab_type": "code",
    "id": "8zoDwXcc3ayX"
   },
   "outputs": [],
   "source": [
    "model = tf.keras.models.Sequential([\n",
    "  tf.keras.layers.Flatten(input_shape=(28, 28)),\n",
    "  tf.keras.layers.Dense(128, activation='relu'),\n",
    "  tf.keras.layers.Dropout(0.2),\n",
    "  tf.keras.layers.Dense(10, activation='softmax')\n",
    "])\n",
    "\n",
    "model.compile(optimizer='adam',\n",
    "              loss='sparse_categorical_crossentropy',\n",
    "              metrics=['accuracy'])"
   ]
  },
  {
   "cell_type": "code",
   "execution_count": null,
   "metadata": {
    "colab": {
     "base_uri": "https://localhost:8080/",
     "height": 219
    },
    "colab_type": "code",
    "executionInfo": {
     "elapsed": 18748,
     "status": "ok",
     "timestamp": 1598134468667,
     "user": {
      "displayName": "Dennis Núñez Fernández",
      "photoUrl": "https://lh3.googleusercontent.com/a-/AOh14GjjYGE_fj3i51L1fHXIFe3URjsE_9VBSHwaunGaZPc=s64",
      "userId": "02133894314206366517"
     },
     "user_tz": 300
    },
    "id": "ac7rzYWI3dQI",
    "outputId": "7320346d-c591-4091-ea1a-16bf2efd8157"
   },
   "outputs": [
    {
     "name": "stdout",
     "output_type": "stream",
     "text": [
      "Epoch 1/5\n",
      "1875/1875 [==============================] - 3s 2ms/step - loss: 0.2967 - accuracy: 0.9139\n",
      "Epoch 2/5\n",
      "1875/1875 [==============================] - 3s 2ms/step - loss: 0.1421 - accuracy: 0.9585\n",
      "Epoch 3/5\n",
      "1875/1875 [==============================] - 3s 2ms/step - loss: 0.1077 - accuracy: 0.9673\n",
      "Epoch 4/5\n",
      "1875/1875 [==============================] - 3s 2ms/step - loss: 0.0876 - accuracy: 0.9727\n",
      "Epoch 5/5\n",
      "1875/1875 [==============================] - 3s 2ms/step - loss: 0.0737 - accuracy: 0.9766\n"
     ]
    },
    {
     "data": {
      "text/plain": [
       "<tensorflow.python.keras.callbacks.History at 0x7f654036feb8>"
      ]
     },
     "execution_count": 15,
     "metadata": {
      "tags": []
     },
     "output_type": "execute_result"
    }
   ],
   "source": [
    "model.fit(x_train, y_train, epochs=5)"
   ]
  },
  {
   "cell_type": "code",
   "execution_count": null,
   "metadata": {
    "colab": {
     "base_uri": "https://localhost:8080/",
     "height": 54
    },
    "colab_type": "code",
    "executionInfo": {
     "elapsed": 2378,
     "status": "ok",
     "timestamp": 1598134473246,
     "user": {
      "displayName": "Dennis Núñez Fernández",
      "photoUrl": "https://lh3.googleusercontent.com/a-/AOh14GjjYGE_fj3i51L1fHXIFe3URjsE_9VBSHwaunGaZPc=s64",
      "userId": "02133894314206366517"
     },
     "user_tz": 300
    },
    "id": "N6C7Q_F83nX4",
    "outputId": "e9cce0d2-ca2d-4408-d790-2df5ad4b3243"
   },
   "outputs": [
    {
     "name": "stdout",
     "output_type": "stream",
     "text": [
      "313/313 - 0s - loss: 0.0677 - accuracy: 0.9788\n"
     ]
    },
    {
     "data": {
      "text/plain": [
       "[0.06768513470888138, 0.9787999987602234]"
      ]
     },
     "execution_count": 16,
     "metadata": {
      "tags": []
     },
     "output_type": "execute_result"
    }
   ],
   "source": [
    "model.evaluate(x_test,  y_test, verbose=2)"
   ]
  },
  {
   "cell_type": "code",
   "execution_count": null,
   "metadata": {
    "colab": {},
    "colab_type": "code",
    "id": "-BSvFZPhPMhS"
   },
   "outputs": [],
   "source": []
  }
 ],
 "metadata": {
  "accelerator": "GPU",
  "colab": {
   "authorship_tag": "ABX9TyNvHxgkr9jxEbJzR0YoPcri",
   "collapsed_sections": [],
   "mount_file_id": "1LLzammqoyMgoWTW2Uwu9It-XS8NWexxq",
   "name": "main.ipynb",
   "provenance": [],
   "toc_visible": true
  },
  "kernelspec": {
   "display_name": "Python 3",
   "language": "python",
   "name": "python3"
  },
  "language_info": {
   "codemirror_mode": {
    "name": "ipython",
    "version": 3
   },
   "file_extension": ".py",
   "mimetype": "text/x-python",
   "name": "python",
   "nbconvert_exporter": "python",
   "pygments_lexer": "ipython3",
   "version": "3.6.13"
  }
 },
 "nbformat": 4,
 "nbformat_minor": 1
}
